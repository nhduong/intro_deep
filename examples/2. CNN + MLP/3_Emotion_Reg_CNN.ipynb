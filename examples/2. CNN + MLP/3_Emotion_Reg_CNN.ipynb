{
 "cells": [
  {
   "cell_type": "code",
   "execution_count": 2,
   "metadata": {},
   "outputs": [],
   "source": [
    "# Nguyen Hai Duong\n",
    "# nhduong_3010@live.com\n",
    "# Chonnam National University\n",
    "# 2018.04.15"
   ]
  },
  {
   "cell_type": "markdown",
   "metadata": {},
   "source": [
    "# Overview\n",
    "- FER2013 dataset (face images + facial expression)\n",
    "  + Goal: classifying facial exprression\n",
    "  + Input: a 48x48 image\n",
    "  + Output: facial expression (angry, disgust, fear, happy, neutral, sad, and surprise)\n",
    "- Defining an CNN+MLP\n",
    "- Training and evaluating an CNN+MLP"
   ]
  },
  {
   "cell_type": "markdown",
   "metadata": {},
   "source": [
    "# Import libraries"
   ]
  },
  {
   "cell_type": "code",
   "execution_count": 2,
   "metadata": {},
   "outputs": [
    {
     "name": "stderr",
     "output_type": "stream",
     "text": [
      "Using TensorFlow backend.\n"
     ]
    }
   ],
   "source": [
    "import keras\n",
    "from keras.models import Model\n",
    "from keras.layers import Input, Conv2D, MaxPooling2D, Flatten, Dense, Dropout\n",
    "from keras.optimizers import Adam\n",
    "\n",
    "from IPython.display import SVG\n",
    "from keras.utils.vis_utils import model_to_dot\n",
    "\n",
    "import time\n",
    "import numpy as np\n",
    "import matplotlib.pyplot as plt"
   ]
  },
  {
   "cell_type": "code",
   "execution_count": 3,
   "metadata": {},
   "outputs": [],
   "source": [
    "num_classes = 7   # angry, disgust, fear, happy, neutral, sad, and surprise"
   ]
  },
  {
   "cell_type": "markdown",
   "metadata": {},
   "source": [
    "# (1) Data"
   ]
  },
  {
   "cell_type": "markdown",
   "metadata": {},
   "source": [
    "### Download data at https://drive.google.com/drive/folders/15EozdYlGeO3d-ny8nbqFM3ojTGsj2hdE?usp=sharing\n",
    "This source code and npy files MUST be in the same location"
   ]
  },
  {
   "cell_type": "code",
   "execution_count": 4,
   "metadata": {},
   "outputs": [
    {
     "data": {
      "text/plain": [
       "array([[ 70.,  80.,  82., ...,   0.,   0.,   0.],\n",
       "       [151., 150., 147., ...,   0.,   0.,   0.],\n",
       "       [231., 212., 156., ...,   0.,   0.,   0.],\n",
       "       ...,\n",
       "       [ 74.,  81.,  87., ...,   1.,   0.,   0.],\n",
       "       [222., 227., 203., ...,   0.,   0.,   0.],\n",
       "       [195., 199., 205., ...,   1.,   0.,   0.]])"
      ]
     },
     "execution_count": 4,
     "metadata": {},
     "output_type": "execute_result"
    }
   ],
   "source": [
    "trainingset = np.loadtxt('fer2013_training_onehot.csv', delimiter=',')\n",
    "testingset = np.loadtxt('fer2013_publictest_onehot.csv', delimiter=',')\n",
    "\n",
    "trainingset"
   ]
  },
  {
   "cell_type": "code",
   "execution_count": 5,
   "metadata": {},
   "outputs": [
    {
     "name": "stderr",
     "output_type": "stream",
     "text": [
      "C:\\Program Files\\Anaconda3\\lib\\site-packages\\ipykernel\\__main__.py:12: DeprecationWarning: Both axis > a.ndim and axis < -a.ndim - 1 are deprecated and will raise an AxisError in the future.\n",
      "C:\\Program Files\\Anaconda3\\lib\\site-packages\\ipykernel\\__main__.py:15: DeprecationWarning: Both axis > a.ndim and axis < -a.ndim - 1 are deprecated and will raise an AxisError in the future.\n"
     ]
    }
   ],
   "source": [
    "n_inputs = 2304\n",
    "n_classes = 7\n",
    "img_dim = 48\n",
    "\n",
    "x_training = trainingset[:, 0:n_inputs]\n",
    "y_training = trainingset[:, n_inputs:n_inputs + n_classes]\n",
    "\n",
    "x_testing = testingset[:, 0:n_inputs]\n",
    "y_testing = testingset[:, n_inputs:n_inputs + n_classes]\n",
    "\n",
    "x_training = x_training.reshape(x_training.shape[0], 48, 48)\n",
    "x_training = np.expand_dims(x_training, axis=4)\n",
    "\n",
    "x_testing = x_testing.reshape(x_testing.shape[0], 48, 48)\n",
    "x_testing = np.expand_dims(x_testing, axis=4)"
   ]
  },
  {
   "cell_type": "markdown",
   "metadata": {},
   "source": [
    "# (2) Declare model"
   ]
  },
  {
   "cell_type": "code",
   "execution_count": 6,
   "metadata": {},
   "outputs": [
    {
     "name": "stdout",
     "output_type": "stream",
     "text": [
      "_________________________________________________________________\n",
      "Layer (type)                 Output Shape              Param #   \n",
      "=================================================================\n",
      "Input (InputLayer)           (None, 48, 48, 1)         0         \n",
      "_________________________________________________________________\n",
      "conv1_1 (Conv2D)             (None, 48, 48, 64)        640       \n",
      "_________________________________________________________________\n",
      "conv1_2 (Conv2D)             (None, 46, 46, 64)        36928     \n",
      "_________________________________________________________________\n",
      "pool1 (MaxPooling2D)         (None, 23, 23, 64)        0         \n",
      "_________________________________________________________________\n",
      "conv_dropout1 (Dropout)      (None, 23, 23, 64)        0         \n",
      "_________________________________________________________________\n",
      "conv2_1 (Conv2D)             (None, 23, 23, 128)       73856     \n",
      "_________________________________________________________________\n",
      "conv2_2 (Conv2D)             (None, 21, 21, 128)       147584    \n",
      "_________________________________________________________________\n",
      "conv2_3 (Conv2D)             (None, 21, 21, 218)       251354    \n",
      "_________________________________________________________________\n",
      "conv2_4 (Conv2D)             (None, 19, 19, 218)       427934    \n",
      "_________________________________________________________________\n",
      "pool2 (MaxPooling2D)         (None, 9, 9, 218)         0         \n",
      "_________________________________________________________________\n",
      "conv_dropout2 (Dropout)      (None, 9, 9, 218)         0         \n",
      "_________________________________________________________________\n",
      "flatten (Flatten)            (None, 17658)             0         \n",
      "_________________________________________________________________\n",
      "fc1 (Dense)                  (None, 1024)              18082816  \n",
      "_________________________________________________________________\n",
      "fc_dropout1 (Dropout)        (None, 1024)              0         \n",
      "_________________________________________________________________\n",
      "fc3_7ways_softmax (Dense)    (None, 7)                 7175      \n",
      "=================================================================\n",
      "Total params: 19,028,287\n",
      "Trainable params: 19,028,287\n",
      "Non-trainable params: 0\n",
      "_________________________________________________________________\n"
     ]
    }
   ],
   "source": [
    "# 64x64 portray image\n",
    "input_image = Input(shape=(48, 48, 1), name='Input')\n",
    "\n",
    "# conv, pooling layers + dropout\n",
    "x = Conv2D(filters=64, kernel_size=(3, 3), padding='same', activation='relu', name='conv1_1')(input_image)\n",
    "x = Conv2D(filters=64, kernel_size=(3, 3), padding='valid', activation='relu', name='conv1_2')(x)\n",
    "x = MaxPooling2D(pool_size=(2, 2), name='pool1')(x)\n",
    "x = Dropout(rate=0.25, name='conv_dropout1')(x)\n",
    "\n",
    "x = Conv2D(filters=128, kernel_size=(3, 3), padding='same', activation='relu', name='conv2_1')(x)\n",
    "x = Conv2D(filters=128, kernel_size=(3, 3), padding='valid', activation='relu', name='conv2_2')(x)\n",
    "x = Conv2D(filters=218, kernel_size=(3, 3), padding='same', activation='relu', name='conv2_3')(x)\n",
    "x = Conv2D(filters=218, kernel_size=(3, 3), padding='valid', activation='relu', name='conv2_4')(x)\n",
    "x = MaxPooling2D(pool_size=(2, 2), name='pool2')(x)\n",
    "x = Dropout(rate=0.25, name='conv_dropout2')(x)\n",
    "\n",
    "# similar to the MLP example!\n",
    "# matrix ---> vector\n",
    "x = Flatten(name='flatten')(x)\n",
    "\n",
    "# FC layers + dropout\n",
    "x = Dense(units=1024, activation='relu', name='fc1')(x)\n",
    "x = Dropout(rate=0.5, name='fc_dropout1')(x)\n",
    "\n",
    "output_label = Dense(units=num_classes, activation='softmax', name='fc3_7ways_softmax')(x)\n",
    "\n",
    "# define model\n",
    "model = Model(inputs=input_image, outputs=output_label, name='emo_cnn')\n",
    "\n",
    "# print model summary\n",
    "model.summary()"
   ]
  },
  {
   "cell_type": "code",
   "execution_count": 7,
   "metadata": {},
   "outputs": [
    {
     "data": {
      "image/svg+xml": [
       "<svg height=\"1217pt\" viewBox=\"0.00 0.00 341.00 1217.00\" width=\"341pt\" xmlns=\"http://www.w3.org/2000/svg\" xmlns:xlink=\"http://www.w3.org/1999/xlink\">\n",
       "<g class=\"graph\" id=\"graph0\" transform=\"scale(1 1) rotate(0) translate(4 1213)\">\n",
       "<title>G</title>\n",
       "<polygon fill=\"white\" points=\"-4,4 -4,-1213 337,-1213 337,4 -4,4\" stroke=\"none\"/>\n",
       "<!-- 1608748439984 -->\n",
       "<g class=\"node\" id=\"node1\"><title>1608748439984</title>\n",
       "<polygon fill=\"none\" points=\"26,-1162.5 26,-1208.5 307,-1208.5 307,-1162.5 26,-1162.5\" stroke=\"black\"/>\n",
       "<text font-family=\"Times New Roman,serif\" font-size=\"14.00\" text-anchor=\"middle\" x=\"82.5\" y=\"-1181.8\">Input: InputLayer</text>\n",
       "<polyline fill=\"none\" points=\"139,-1162.5 139,-1208.5 \" stroke=\"black\"/>\n",
       "<text font-family=\"Times New Roman,serif\" font-size=\"14.00\" text-anchor=\"middle\" x=\"167\" y=\"-1193.3\">input:</text>\n",
       "<polyline fill=\"none\" points=\"139,-1185.5 195,-1185.5 \" stroke=\"black\"/>\n",
       "<text font-family=\"Times New Roman,serif\" font-size=\"14.00\" text-anchor=\"middle\" x=\"167\" y=\"-1170.3\">output:</text>\n",
       "<polyline fill=\"none\" points=\"195,-1162.5 195,-1208.5 \" stroke=\"black\"/>\n",
       "<text font-family=\"Times New Roman,serif\" font-size=\"14.00\" text-anchor=\"middle\" x=\"251\" y=\"-1193.3\">(None, 48, 48, 1)</text>\n",
       "<polyline fill=\"none\" points=\"195,-1185.5 307,-1185.5 \" stroke=\"black\"/>\n",
       "<text font-family=\"Times New Roman,serif\" font-size=\"14.00\" text-anchor=\"middle\" x=\"251\" y=\"-1170.3\">(None, 48, 48, 1)</text>\n",
       "</g>\n",
       "<!-- 1608748439928 -->\n",
       "<g class=\"node\" id=\"node2\"><title>1608748439928</title>\n",
       "<polygon fill=\"none\" points=\"19.5,-1079.5 19.5,-1125.5 313.5,-1125.5 313.5,-1079.5 19.5,-1079.5\" stroke=\"black\"/>\n",
       "<text font-family=\"Times New Roman,serif\" font-size=\"14.00\" text-anchor=\"middle\" x=\"79\" y=\"-1098.8\">conv1_1: Conv2D</text>\n",
       "<polyline fill=\"none\" points=\"138.5,-1079.5 138.5,-1125.5 \" stroke=\"black\"/>\n",
       "<text font-family=\"Times New Roman,serif\" font-size=\"14.00\" text-anchor=\"middle\" x=\"166.5\" y=\"-1110.3\">input:</text>\n",
       "<polyline fill=\"none\" points=\"138.5,-1102.5 194.5,-1102.5 \" stroke=\"black\"/>\n",
       "<text font-family=\"Times New Roman,serif\" font-size=\"14.00\" text-anchor=\"middle\" x=\"166.5\" y=\"-1087.3\">output:</text>\n",
       "<polyline fill=\"none\" points=\"194.5,-1079.5 194.5,-1125.5 \" stroke=\"black\"/>\n",
       "<text font-family=\"Times New Roman,serif\" font-size=\"14.00\" text-anchor=\"middle\" x=\"254\" y=\"-1110.3\">(None, 48, 48, 1)</text>\n",
       "<polyline fill=\"none\" points=\"194.5,-1102.5 313.5,-1102.5 \" stroke=\"black\"/>\n",
       "<text font-family=\"Times New Roman,serif\" font-size=\"14.00\" text-anchor=\"middle\" x=\"254\" y=\"-1087.3\">(None, 48, 48, 64)</text>\n",
       "</g>\n",
       "<!-- 1608748439984&#45;&gt;1608748439928 -->\n",
       "<g class=\"edge\" id=\"edge1\"><title>1608748439984-&gt;1608748439928</title>\n",
       "<path d=\"M166.5,-1162.37C166.5,-1154.15 166.5,-1144.66 166.5,-1135.73\" fill=\"none\" stroke=\"black\"/>\n",
       "<polygon fill=\"black\" points=\"170,-1135.61 166.5,-1125.61 163,-1135.61 170,-1135.61\" stroke=\"black\"/>\n",
       "</g>\n",
       "<!-- 1608748440712 -->\n",
       "<g class=\"node\" id=\"node3\"><title>1608748440712</title>\n",
       "<polygon fill=\"none\" points=\"19.5,-996.5 19.5,-1042.5 313.5,-1042.5 313.5,-996.5 19.5,-996.5\" stroke=\"black\"/>\n",
       "<text font-family=\"Times New Roman,serif\" font-size=\"14.00\" text-anchor=\"middle\" x=\"79\" y=\"-1015.8\">conv1_2: Conv2D</text>\n",
       "<polyline fill=\"none\" points=\"138.5,-996.5 138.5,-1042.5 \" stroke=\"black\"/>\n",
       "<text font-family=\"Times New Roman,serif\" font-size=\"14.00\" text-anchor=\"middle\" x=\"166.5\" y=\"-1027.3\">input:</text>\n",
       "<polyline fill=\"none\" points=\"138.5,-1019.5 194.5,-1019.5 \" stroke=\"black\"/>\n",
       "<text font-family=\"Times New Roman,serif\" font-size=\"14.00\" text-anchor=\"middle\" x=\"166.5\" y=\"-1004.3\">output:</text>\n",
       "<polyline fill=\"none\" points=\"194.5,-996.5 194.5,-1042.5 \" stroke=\"black\"/>\n",
       "<text font-family=\"Times New Roman,serif\" font-size=\"14.00\" text-anchor=\"middle\" x=\"254\" y=\"-1027.3\">(None, 48, 48, 64)</text>\n",
       "<polyline fill=\"none\" points=\"194.5,-1019.5 313.5,-1019.5 \" stroke=\"black\"/>\n",
       "<text font-family=\"Times New Roman,serif\" font-size=\"14.00\" text-anchor=\"middle\" x=\"254\" y=\"-1004.3\">(None, 46, 46, 64)</text>\n",
       "</g>\n",
       "<!-- 1608748439928&#45;&gt;1608748440712 -->\n",
       "<g class=\"edge\" id=\"edge2\"><title>1608748439928-&gt;1608748440712</title>\n",
       "<path d=\"M166.5,-1079.37C166.5,-1071.15 166.5,-1061.66 166.5,-1052.73\" fill=\"none\" stroke=\"black\"/>\n",
       "<polygon fill=\"black\" points=\"170,-1052.61 166.5,-1042.61 163,-1052.61 170,-1052.61\" stroke=\"black\"/>\n",
       "</g>\n",
       "<!-- 1608748440544 -->\n",
       "<g class=\"node\" id=\"node4\"><title>1608748440544</title>\n",
       "<polygon fill=\"none\" points=\"9,-913.5 9,-959.5 324,-959.5 324,-913.5 9,-913.5\" stroke=\"black\"/>\n",
       "<text font-family=\"Times New Roman,serif\" font-size=\"14.00\" text-anchor=\"middle\" x=\"79\" y=\"-932.8\">pool1: MaxPooling2D</text>\n",
       "<polyline fill=\"none\" points=\"149,-913.5 149,-959.5 \" stroke=\"black\"/>\n",
       "<text font-family=\"Times New Roman,serif\" font-size=\"14.00\" text-anchor=\"middle\" x=\"177\" y=\"-944.3\">input:</text>\n",
       "<polyline fill=\"none\" points=\"149,-936.5 205,-936.5 \" stroke=\"black\"/>\n",
       "<text font-family=\"Times New Roman,serif\" font-size=\"14.00\" text-anchor=\"middle\" x=\"177\" y=\"-921.3\">output:</text>\n",
       "<polyline fill=\"none\" points=\"205,-913.5 205,-959.5 \" stroke=\"black\"/>\n",
       "<text font-family=\"Times New Roman,serif\" font-size=\"14.00\" text-anchor=\"middle\" x=\"264.5\" y=\"-944.3\">(None, 46, 46, 64)</text>\n",
       "<polyline fill=\"none\" points=\"205,-936.5 324,-936.5 \" stroke=\"black\"/>\n",
       "<text font-family=\"Times New Roman,serif\" font-size=\"14.00\" text-anchor=\"middle\" x=\"264.5\" y=\"-921.3\">(None, 23, 23, 64)</text>\n",
       "</g>\n",
       "<!-- 1608748440712&#45;&gt;1608748440544 -->\n",
       "<g class=\"edge\" id=\"edge3\"><title>1608748440712-&gt;1608748440544</title>\n",
       "<path d=\"M166.5,-996.366C166.5,-988.152 166.5,-978.658 166.5,-969.725\" fill=\"none\" stroke=\"black\"/>\n",
       "<polygon fill=\"black\" points=\"170,-969.607 166.5,-959.607 163,-969.607 170,-969.607\" stroke=\"black\"/>\n",
       "</g>\n",
       "<!-- 1608804452728 -->\n",
       "<g class=\"node\" id=\"node5\"><title>1608804452728</title>\n",
       "<polygon fill=\"none\" points=\"0,-830.5 0,-876.5 333,-876.5 333,-830.5 0,-830.5\" stroke=\"black\"/>\n",
       "<text font-family=\"Times New Roman,serif\" font-size=\"14.00\" text-anchor=\"middle\" x=\"79\" y=\"-849.8\">conv_dropout1: Dropout</text>\n",
       "<polyline fill=\"none\" points=\"158,-830.5 158,-876.5 \" stroke=\"black\"/>\n",
       "<text font-family=\"Times New Roman,serif\" font-size=\"14.00\" text-anchor=\"middle\" x=\"186\" y=\"-861.3\">input:</text>\n",
       "<polyline fill=\"none\" points=\"158,-853.5 214,-853.5 \" stroke=\"black\"/>\n",
       "<text font-family=\"Times New Roman,serif\" font-size=\"14.00\" text-anchor=\"middle\" x=\"186\" y=\"-838.3\">output:</text>\n",
       "<polyline fill=\"none\" points=\"214,-830.5 214,-876.5 \" stroke=\"black\"/>\n",
       "<text font-family=\"Times New Roman,serif\" font-size=\"14.00\" text-anchor=\"middle\" x=\"273.5\" y=\"-861.3\">(None, 23, 23, 64)</text>\n",
       "<polyline fill=\"none\" points=\"214,-853.5 333,-853.5 \" stroke=\"black\"/>\n",
       "<text font-family=\"Times New Roman,serif\" font-size=\"14.00\" text-anchor=\"middle\" x=\"273.5\" y=\"-838.3\">(None, 23, 23, 64)</text>\n",
       "</g>\n",
       "<!-- 1608748440544&#45;&gt;1608804452728 -->\n",
       "<g class=\"edge\" id=\"edge4\"><title>1608748440544-&gt;1608804452728</title>\n",
       "<path d=\"M166.5,-913.366C166.5,-905.152 166.5,-895.658 166.5,-886.725\" fill=\"none\" stroke=\"black\"/>\n",
       "<polygon fill=\"black\" points=\"170,-886.607 166.5,-876.607 163,-886.607 170,-886.607\" stroke=\"black\"/>\n",
       "</g>\n",
       "<!-- 1608847882728 -->\n",
       "<g class=\"node\" id=\"node6\"><title>1608847882728</title>\n",
       "<polygon fill=\"none\" points=\"16.5,-747.5 16.5,-793.5 316.5,-793.5 316.5,-747.5 16.5,-747.5\" stroke=\"black\"/>\n",
       "<text font-family=\"Times New Roman,serif\" font-size=\"14.00\" text-anchor=\"middle\" x=\"76\" y=\"-766.8\">conv2_1: Conv2D</text>\n",
       "<polyline fill=\"none\" points=\"135.5,-747.5 135.5,-793.5 \" stroke=\"black\"/>\n",
       "<text font-family=\"Times New Roman,serif\" font-size=\"14.00\" text-anchor=\"middle\" x=\"163.5\" y=\"-778.3\">input:</text>\n",
       "<polyline fill=\"none\" points=\"135.5,-770.5 191.5,-770.5 \" stroke=\"black\"/>\n",
       "<text font-family=\"Times New Roman,serif\" font-size=\"14.00\" text-anchor=\"middle\" x=\"163.5\" y=\"-755.3\">output:</text>\n",
       "<polyline fill=\"none\" points=\"191.5,-747.5 191.5,-793.5 \" stroke=\"black\"/>\n",
       "<text font-family=\"Times New Roman,serif\" font-size=\"14.00\" text-anchor=\"middle\" x=\"254\" y=\"-778.3\">(None, 23, 23, 64)</text>\n",
       "<polyline fill=\"none\" points=\"191.5,-770.5 316.5,-770.5 \" stroke=\"black\"/>\n",
       "<text font-family=\"Times New Roman,serif\" font-size=\"14.00\" text-anchor=\"middle\" x=\"254\" y=\"-755.3\">(None, 23, 23, 128)</text>\n",
       "</g>\n",
       "<!-- 1608804452728&#45;&gt;1608847882728 -->\n",
       "<g class=\"edge\" id=\"edge5\"><title>1608804452728-&gt;1608847882728</title>\n",
       "<path d=\"M166.5,-830.366C166.5,-822.152 166.5,-812.658 166.5,-803.725\" fill=\"none\" stroke=\"black\"/>\n",
       "<polygon fill=\"black\" points=\"170,-803.607 166.5,-793.607 163,-803.607 170,-803.607\" stroke=\"black\"/>\n",
       "</g>\n",
       "<!-- 1606671965936 -->\n",
       "<g class=\"node\" id=\"node7\"><title>1606671965936</title>\n",
       "<polygon fill=\"none\" points=\"16.5,-664.5 16.5,-710.5 316.5,-710.5 316.5,-664.5 16.5,-664.5\" stroke=\"black\"/>\n",
       "<text font-family=\"Times New Roman,serif\" font-size=\"14.00\" text-anchor=\"middle\" x=\"76\" y=\"-683.8\">conv2_2: Conv2D</text>\n",
       "<polyline fill=\"none\" points=\"135.5,-664.5 135.5,-710.5 \" stroke=\"black\"/>\n",
       "<text font-family=\"Times New Roman,serif\" font-size=\"14.00\" text-anchor=\"middle\" x=\"163.5\" y=\"-695.3\">input:</text>\n",
       "<polyline fill=\"none\" points=\"135.5,-687.5 191.5,-687.5 \" stroke=\"black\"/>\n",
       "<text font-family=\"Times New Roman,serif\" font-size=\"14.00\" text-anchor=\"middle\" x=\"163.5\" y=\"-672.3\">output:</text>\n",
       "<polyline fill=\"none\" points=\"191.5,-664.5 191.5,-710.5 \" stroke=\"black\"/>\n",
       "<text font-family=\"Times New Roman,serif\" font-size=\"14.00\" text-anchor=\"middle\" x=\"254\" y=\"-695.3\">(None, 23, 23, 128)</text>\n",
       "<polyline fill=\"none\" points=\"191.5,-687.5 316.5,-687.5 \" stroke=\"black\"/>\n",
       "<text font-family=\"Times New Roman,serif\" font-size=\"14.00\" text-anchor=\"middle\" x=\"254\" y=\"-672.3\">(None, 21, 21, 128)</text>\n",
       "</g>\n",
       "<!-- 1608847882728&#45;&gt;1606671965936 -->\n",
       "<g class=\"edge\" id=\"edge6\"><title>1608847882728-&gt;1606671965936</title>\n",
       "<path d=\"M166.5,-747.366C166.5,-739.152 166.5,-729.658 166.5,-720.725\" fill=\"none\" stroke=\"black\"/>\n",
       "<polygon fill=\"black\" points=\"170,-720.607 166.5,-710.607 163,-720.607 170,-720.607\" stroke=\"black\"/>\n",
       "</g>\n",
       "<!-- 1608343006232 -->\n",
       "<g class=\"node\" id=\"node8\"><title>1608343006232</title>\n",
       "<polygon fill=\"none\" points=\"16.5,-581.5 16.5,-627.5 316.5,-627.5 316.5,-581.5 16.5,-581.5\" stroke=\"black\"/>\n",
       "<text font-family=\"Times New Roman,serif\" font-size=\"14.00\" text-anchor=\"middle\" x=\"76\" y=\"-600.8\">conv2_3: Conv2D</text>\n",
       "<polyline fill=\"none\" points=\"135.5,-581.5 135.5,-627.5 \" stroke=\"black\"/>\n",
       "<text font-family=\"Times New Roman,serif\" font-size=\"14.00\" text-anchor=\"middle\" x=\"163.5\" y=\"-612.3\">input:</text>\n",
       "<polyline fill=\"none\" points=\"135.5,-604.5 191.5,-604.5 \" stroke=\"black\"/>\n",
       "<text font-family=\"Times New Roman,serif\" font-size=\"14.00\" text-anchor=\"middle\" x=\"163.5\" y=\"-589.3\">output:</text>\n",
       "<polyline fill=\"none\" points=\"191.5,-581.5 191.5,-627.5 \" stroke=\"black\"/>\n",
       "<text font-family=\"Times New Roman,serif\" font-size=\"14.00\" text-anchor=\"middle\" x=\"254\" y=\"-612.3\">(None, 21, 21, 128)</text>\n",
       "<polyline fill=\"none\" points=\"191.5,-604.5 316.5,-604.5 \" stroke=\"black\"/>\n",
       "<text font-family=\"Times New Roman,serif\" font-size=\"14.00\" text-anchor=\"middle\" x=\"254\" y=\"-589.3\">(None, 21, 21, 218)</text>\n",
       "</g>\n",
       "<!-- 1606671965936&#45;&gt;1608343006232 -->\n",
       "<g class=\"edge\" id=\"edge7\"><title>1606671965936-&gt;1608343006232</title>\n",
       "<path d=\"M166.5,-664.366C166.5,-656.152 166.5,-646.658 166.5,-637.725\" fill=\"none\" stroke=\"black\"/>\n",
       "<polygon fill=\"black\" points=\"170,-637.607 166.5,-627.607 163,-637.607 170,-637.607\" stroke=\"black\"/>\n",
       "</g>\n",
       "<!-- 1609005178272 -->\n",
       "<g class=\"node\" id=\"node9\"><title>1609005178272</title>\n",
       "<polygon fill=\"none\" points=\"16.5,-498.5 16.5,-544.5 316.5,-544.5 316.5,-498.5 16.5,-498.5\" stroke=\"black\"/>\n",
       "<text font-family=\"Times New Roman,serif\" font-size=\"14.00\" text-anchor=\"middle\" x=\"76\" y=\"-517.8\">conv2_4: Conv2D</text>\n",
       "<polyline fill=\"none\" points=\"135.5,-498.5 135.5,-544.5 \" stroke=\"black\"/>\n",
       "<text font-family=\"Times New Roman,serif\" font-size=\"14.00\" text-anchor=\"middle\" x=\"163.5\" y=\"-529.3\">input:</text>\n",
       "<polyline fill=\"none\" points=\"135.5,-521.5 191.5,-521.5 \" stroke=\"black\"/>\n",
       "<text font-family=\"Times New Roman,serif\" font-size=\"14.00\" text-anchor=\"middle\" x=\"163.5\" y=\"-506.3\">output:</text>\n",
       "<polyline fill=\"none\" points=\"191.5,-498.5 191.5,-544.5 \" stroke=\"black\"/>\n",
       "<text font-family=\"Times New Roman,serif\" font-size=\"14.00\" text-anchor=\"middle\" x=\"254\" y=\"-529.3\">(None, 21, 21, 218)</text>\n",
       "<polyline fill=\"none\" points=\"191.5,-521.5 316.5,-521.5 \" stroke=\"black\"/>\n",
       "<text font-family=\"Times New Roman,serif\" font-size=\"14.00\" text-anchor=\"middle\" x=\"254\" y=\"-506.3\">(None, 19, 19, 218)</text>\n",
       "</g>\n",
       "<!-- 1608343006232&#45;&gt;1609005178272 -->\n",
       "<g class=\"edge\" id=\"edge8\"><title>1608343006232-&gt;1609005178272</title>\n",
       "<path d=\"M166.5,-581.366C166.5,-573.152 166.5,-563.658 166.5,-554.725\" fill=\"none\" stroke=\"black\"/>\n",
       "<polygon fill=\"black\" points=\"170,-554.607 166.5,-544.607 163,-554.607 170,-554.607\" stroke=\"black\"/>\n",
       "</g>\n",
       "<!-- 1606681403064 -->\n",
       "<g class=\"node\" id=\"node10\"><title>1606681403064</title>\n",
       "<polygon fill=\"none\" points=\"6,-415.5 6,-461.5 327,-461.5 327,-415.5 6,-415.5\" stroke=\"black\"/>\n",
       "<text font-family=\"Times New Roman,serif\" font-size=\"14.00\" text-anchor=\"middle\" x=\"76\" y=\"-434.8\">pool2: MaxPooling2D</text>\n",
       "<polyline fill=\"none\" points=\"146,-415.5 146,-461.5 \" stroke=\"black\"/>\n",
       "<text font-family=\"Times New Roman,serif\" font-size=\"14.00\" text-anchor=\"middle\" x=\"174\" y=\"-446.3\">input:</text>\n",
       "<polyline fill=\"none\" points=\"146,-438.5 202,-438.5 \" stroke=\"black\"/>\n",
       "<text font-family=\"Times New Roman,serif\" font-size=\"14.00\" text-anchor=\"middle\" x=\"174\" y=\"-423.3\">output:</text>\n",
       "<polyline fill=\"none\" points=\"202,-415.5 202,-461.5 \" stroke=\"black\"/>\n",
       "<text font-family=\"Times New Roman,serif\" font-size=\"14.00\" text-anchor=\"middle\" x=\"264.5\" y=\"-446.3\">(None, 19, 19, 218)</text>\n",
       "<polyline fill=\"none\" points=\"202,-438.5 327,-438.5 \" stroke=\"black\"/>\n",
       "<text font-family=\"Times New Roman,serif\" font-size=\"14.00\" text-anchor=\"middle\" x=\"264.5\" y=\"-423.3\">(None, 9, 9, 218)</text>\n",
       "</g>\n",
       "<!-- 1609005178272&#45;&gt;1606681403064 -->\n",
       "<g class=\"edge\" id=\"edge9\"><title>1609005178272-&gt;1606681403064</title>\n",
       "<path d=\"M166.5,-498.366C166.5,-490.152 166.5,-480.658 166.5,-471.725\" fill=\"none\" stroke=\"black\"/>\n",
       "<polygon fill=\"black\" points=\"170,-471.607 166.5,-461.607 163,-471.607 170,-471.607\" stroke=\"black\"/>\n",
       "</g>\n",
       "<!-- 1606785294120 -->\n",
       "<g class=\"node\" id=\"node11\"><title>1606785294120</title>\n",
       "<polygon fill=\"none\" points=\"3.5,-332.5 3.5,-378.5 329.5,-378.5 329.5,-332.5 3.5,-332.5\" stroke=\"black\"/>\n",
       "<text font-family=\"Times New Roman,serif\" font-size=\"14.00\" text-anchor=\"middle\" x=\"82.5\" y=\"-351.8\">conv_dropout2: Dropout</text>\n",
       "<polyline fill=\"none\" points=\"161.5,-332.5 161.5,-378.5 \" stroke=\"black\"/>\n",
       "<text font-family=\"Times New Roman,serif\" font-size=\"14.00\" text-anchor=\"middle\" x=\"189.5\" y=\"-363.3\">input:</text>\n",
       "<polyline fill=\"none\" points=\"161.5,-355.5 217.5,-355.5 \" stroke=\"black\"/>\n",
       "<text font-family=\"Times New Roman,serif\" font-size=\"14.00\" text-anchor=\"middle\" x=\"189.5\" y=\"-340.3\">output:</text>\n",
       "<polyline fill=\"none\" points=\"217.5,-332.5 217.5,-378.5 \" stroke=\"black\"/>\n",
       "<text font-family=\"Times New Roman,serif\" font-size=\"14.00\" text-anchor=\"middle\" x=\"273.5\" y=\"-363.3\">(None, 9, 9, 218)</text>\n",
       "<polyline fill=\"none\" points=\"217.5,-355.5 329.5,-355.5 \" stroke=\"black\"/>\n",
       "<text font-family=\"Times New Roman,serif\" font-size=\"14.00\" text-anchor=\"middle\" x=\"273.5\" y=\"-340.3\">(None, 9, 9, 218)</text>\n",
       "</g>\n",
       "<!-- 1606681403064&#45;&gt;1606785294120 -->\n",
       "<g class=\"edge\" id=\"edge10\"><title>1606681403064-&gt;1606785294120</title>\n",
       "<path d=\"M166.5,-415.366C166.5,-407.152 166.5,-397.658 166.5,-388.725\" fill=\"none\" stroke=\"black\"/>\n",
       "<polygon fill=\"black\" points=\"170,-388.607 166.5,-378.607 163,-388.607 170,-388.607\" stroke=\"black\"/>\n",
       "</g>\n",
       "<!-- 1606785603568 -->\n",
       "<g class=\"node\" id=\"node12\"><title>1606785603568</title>\n",
       "<polygon fill=\"none\" points=\"35,-249.5 35,-295.5 298,-295.5 298,-249.5 35,-249.5\" stroke=\"black\"/>\n",
       "<text font-family=\"Times New Roman,serif\" font-size=\"14.00\" text-anchor=\"middle\" x=\"82.5\" y=\"-268.8\">flatten: Flatten</text>\n",
       "<polyline fill=\"none\" points=\"130,-249.5 130,-295.5 \" stroke=\"black\"/>\n",
       "<text font-family=\"Times New Roman,serif\" font-size=\"14.00\" text-anchor=\"middle\" x=\"158\" y=\"-280.3\">input:</text>\n",
       "<polyline fill=\"none\" points=\"130,-272.5 186,-272.5 \" stroke=\"black\"/>\n",
       "<text font-family=\"Times New Roman,serif\" font-size=\"14.00\" text-anchor=\"middle\" x=\"158\" y=\"-257.3\">output:</text>\n",
       "<polyline fill=\"none\" points=\"186,-249.5 186,-295.5 \" stroke=\"black\"/>\n",
       "<text font-family=\"Times New Roman,serif\" font-size=\"14.00\" text-anchor=\"middle\" x=\"242\" y=\"-280.3\">(None, 9, 9, 218)</text>\n",
       "<polyline fill=\"none\" points=\"186,-272.5 298,-272.5 \" stroke=\"black\"/>\n",
       "<text font-family=\"Times New Roman,serif\" font-size=\"14.00\" text-anchor=\"middle\" x=\"242\" y=\"-257.3\">(None, 17658)</text>\n",
       "</g>\n",
       "<!-- 1606785294120&#45;&gt;1606785603568 -->\n",
       "<g class=\"edge\" id=\"edge11\"><title>1606785294120-&gt;1606785603568</title>\n",
       "<path d=\"M166.5,-332.366C166.5,-324.152 166.5,-314.658 166.5,-305.725\" fill=\"none\" stroke=\"black\"/>\n",
       "<polygon fill=\"black\" points=\"170,-305.607 166.5,-295.607 163,-305.607 170,-305.607\" stroke=\"black\"/>\n",
       "</g>\n",
       "<!-- 1606785604800 -->\n",
       "<g class=\"node\" id=\"node13\"><title>1606785604800</title>\n",
       "<polygon fill=\"none\" points=\"52,-166.5 52,-212.5 281,-212.5 281,-166.5 52,-166.5\" stroke=\"black\"/>\n",
       "<text font-family=\"Times New Roman,serif\" font-size=\"14.00\" text-anchor=\"middle\" x=\"90\" y=\"-185.8\">fc1: Dense</text>\n",
       "<polyline fill=\"none\" points=\"128,-166.5 128,-212.5 \" stroke=\"black\"/>\n",
       "<text font-family=\"Times New Roman,serif\" font-size=\"14.00\" text-anchor=\"middle\" x=\"156\" y=\"-197.3\">input:</text>\n",
       "<polyline fill=\"none\" points=\"128,-189.5 184,-189.5 \" stroke=\"black\"/>\n",
       "<text font-family=\"Times New Roman,serif\" font-size=\"14.00\" text-anchor=\"middle\" x=\"156\" y=\"-174.3\">output:</text>\n",
       "<polyline fill=\"none\" points=\"184,-166.5 184,-212.5 \" stroke=\"black\"/>\n",
       "<text font-family=\"Times New Roman,serif\" font-size=\"14.00\" text-anchor=\"middle\" x=\"232.5\" y=\"-197.3\">(None, 17658)</text>\n",
       "<polyline fill=\"none\" points=\"184,-189.5 281,-189.5 \" stroke=\"black\"/>\n",
       "<text font-family=\"Times New Roman,serif\" font-size=\"14.00\" text-anchor=\"middle\" x=\"232.5\" y=\"-174.3\">(None, 1024)</text>\n",
       "</g>\n",
       "<!-- 1606785603568&#45;&gt;1606785604800 -->\n",
       "<g class=\"edge\" id=\"edge12\"><title>1606785603568-&gt;1606785604800</title>\n",
       "<path d=\"M166.5,-249.366C166.5,-241.152 166.5,-231.658 166.5,-222.725\" fill=\"none\" stroke=\"black\"/>\n",
       "<polygon fill=\"black\" points=\"170,-222.607 166.5,-212.607 163,-222.607 170,-222.607\" stroke=\"black\"/>\n",
       "</g>\n",
       "<!-- 1606785626632 -->\n",
       "<g class=\"node\" id=\"node14\"><title>1606785626632</title>\n",
       "<polygon fill=\"none\" points=\"23,-83.5 23,-129.5 310,-129.5 310,-83.5 23,-83.5\" stroke=\"black\"/>\n",
       "<text font-family=\"Times New Roman,serif\" font-size=\"14.00\" text-anchor=\"middle\" x=\"93.5\" y=\"-102.8\">fc_dropout1: Dropout</text>\n",
       "<polyline fill=\"none\" points=\"164,-83.5 164,-129.5 \" stroke=\"black\"/>\n",
       "<text font-family=\"Times New Roman,serif\" font-size=\"14.00\" text-anchor=\"middle\" x=\"192\" y=\"-114.3\">input:</text>\n",
       "<polyline fill=\"none\" points=\"164,-106.5 220,-106.5 \" stroke=\"black\"/>\n",
       "<text font-family=\"Times New Roman,serif\" font-size=\"14.00\" text-anchor=\"middle\" x=\"192\" y=\"-91.3\">output:</text>\n",
       "<polyline fill=\"none\" points=\"220,-83.5 220,-129.5 \" stroke=\"black\"/>\n",
       "<text font-family=\"Times New Roman,serif\" font-size=\"14.00\" text-anchor=\"middle\" x=\"265\" y=\"-114.3\">(None, 1024)</text>\n",
       "<polyline fill=\"none\" points=\"220,-106.5 310,-106.5 \" stroke=\"black\"/>\n",
       "<text font-family=\"Times New Roman,serif\" font-size=\"14.00\" text-anchor=\"middle\" x=\"265\" y=\"-91.3\">(None, 1024)</text>\n",
       "</g>\n",
       "<!-- 1606785604800&#45;&gt;1606785626632 -->\n",
       "<g class=\"edge\" id=\"edge13\"><title>1606785604800-&gt;1606785626632</title>\n",
       "<path d=\"M166.5,-166.366C166.5,-158.152 166.5,-148.658 166.5,-139.725\" fill=\"none\" stroke=\"black\"/>\n",
       "<polygon fill=\"black\" points=\"170,-139.607 166.5,-129.607 163,-139.607 170,-139.607\" stroke=\"black\"/>\n",
       "</g>\n",
       "<!-- 1606679157448 -->\n",
       "<g class=\"node\" id=\"node15\"><title>1606679157448</title>\n",
       "<polygon fill=\"none\" points=\"8,-0.5 8,-46.5 325,-46.5 325,-0.5 8,-0.5\" stroke=\"black\"/>\n",
       "<text font-family=\"Times New Roman,serif\" font-size=\"14.00\" text-anchor=\"middle\" x=\"93.5\" y=\"-19.8\">fc3_7ways_softmax: Dense</text>\n",
       "<polyline fill=\"none\" points=\"179,-0.5 179,-46.5 \" stroke=\"black\"/>\n",
       "<text font-family=\"Times New Roman,serif\" font-size=\"14.00\" text-anchor=\"middle\" x=\"207\" y=\"-31.3\">input:</text>\n",
       "<polyline fill=\"none\" points=\"179,-23.5 235,-23.5 \" stroke=\"black\"/>\n",
       "<text font-family=\"Times New Roman,serif\" font-size=\"14.00\" text-anchor=\"middle\" x=\"207\" y=\"-8.3\">output:</text>\n",
       "<polyline fill=\"none\" points=\"235,-0.5 235,-46.5 \" stroke=\"black\"/>\n",
       "<text font-family=\"Times New Roman,serif\" font-size=\"14.00\" text-anchor=\"middle\" x=\"280\" y=\"-31.3\">(None, 1024)</text>\n",
       "<polyline fill=\"none\" points=\"235,-23.5 325,-23.5 \" stroke=\"black\"/>\n",
       "<text font-family=\"Times New Roman,serif\" font-size=\"14.00\" text-anchor=\"middle\" x=\"280\" y=\"-8.3\">(None, 7)</text>\n",
       "</g>\n",
       "<!-- 1606785626632&#45;&gt;1606679157448 -->\n",
       "<g class=\"edge\" id=\"edge14\"><title>1606785626632-&gt;1606679157448</title>\n",
       "<path d=\"M166.5,-83.3664C166.5,-75.1516 166.5,-65.6579 166.5,-56.7252\" fill=\"none\" stroke=\"black\"/>\n",
       "<polygon fill=\"black\" points=\"170,-56.6068 166.5,-46.6068 163,-56.6069 170,-56.6068\" stroke=\"black\"/>\n",
       "</g>\n",
       "</g>\n",
       "</svg>"
      ],
      "text/plain": [
       "<IPython.core.display.SVG object>"
      ]
     },
     "execution_count": 7,
     "metadata": {},
     "output_type": "execute_result"
    }
   ],
   "source": [
    "SVG(model_to_dot(model, show_shapes=True).create(prog='dot', format='svg'))"
   ]
  },
  {
   "cell_type": "markdown",
   "metadata": {},
   "source": [
    "# (3) Train defined model\n",
    "- Note that the training history including loss and accuracy will be save in 'history' variable\n",
    "- In case your system runs out of memory (OOM), try to decrease batch size"
   ]
  },
  {
   "cell_type": "code",
   "execution_count": 13,
   "metadata": {},
   "outputs": [
    {
     "name": "stdout",
     "output_type": "stream",
     "text": [
      "Train on 28709 samples, validate on 3589 samples\n",
      "Epoch 1/15\n",
      "28709/28709 [==============================] - 25s 879us/step - loss: 2.5310 - acc: 0.2356 - val_loss: 1.7838 - val_acc: 0.2906\n",
      "Epoch 2/15\n",
      "28709/28709 [==============================] - 24s 845us/step - loss: 1.6690 - acc: 0.3420 - val_loss: 1.5198 - val_acc: 0.4199\n",
      "Epoch 3/15\n",
      "28709/28709 [==============================] - 24s 846us/step - loss: 1.5103 - acc: 0.4232 - val_loss: 1.3997 - val_acc: 0.4759\n",
      "Epoch 4/15\n",
      "28709/28709 [==============================] - 24s 847us/step - loss: 1.3836 - acc: 0.4764 - val_loss: 1.2972 - val_acc: 0.5138\n",
      "Epoch 5/15\n",
      "28709/28709 [==============================] - 25s 859us/step - loss: 1.2858 - acc: 0.5152 - val_loss: 1.2344 - val_acc: 0.5369\n",
      "Epoch 6/15\n",
      "28709/28709 [==============================] - 24s 849us/step - loss: 1.2069 - acc: 0.5493 - val_loss: 1.2041 - val_acc: 0.5464\n",
      "Epoch 7/15\n",
      "28709/28709 [==============================] - 24s 847us/step - loss: 1.1204 - acc: 0.5831 - val_loss: 1.1705 - val_acc: 0.5662\n",
      "Epoch 8/15\n",
      "28709/28709 [==============================] - 24s 849us/step - loss: 1.0302 - acc: 0.6195 - val_loss: 1.1589 - val_acc: 0.5600\n",
      "Epoch 9/15\n",
      "28709/28709 [==============================] - 24s 846us/step - loss: 0.9315 - acc: 0.6568 - val_loss: 1.1372 - val_acc: 0.5876\n",
      "Epoch 10/15\n",
      "28709/28709 [==============================] - 24s 847us/step - loss: 0.8359 - acc: 0.6989 - val_loss: 1.1419 - val_acc: 0.5885\n",
      "Epoch 11/15\n",
      "28709/28709 [==============================] - 24s 847us/step - loss: 0.7276 - acc: 0.7354 - val_loss: 1.1808 - val_acc: 0.5938\n",
      "Epoch 12/15\n",
      "28709/28709 [==============================] - 24s 844us/step - loss: 0.6251 - acc: 0.7757 - val_loss: 1.2117 - val_acc: 0.5879\n",
      "Epoch 13/15\n",
      "28709/28709 [==============================] - 24s 847us/step - loss: 0.5360 - acc: 0.8077 - val_loss: 1.2580 - val_acc: 0.5860\n",
      "Epoch 14/15\n",
      "28709/28709 [==============================] - 24s 847us/step - loss: 0.4545 - acc: 0.8397 - val_loss: 1.3116 - val_acc: 0.5904\n",
      "Epoch 15/15\n",
      "28709/28709 [==============================] - 24s 847us/step - loss: 0.3848 - acc: 0.8660 - val_loss: 1.4070 - val_acc: 0.5954\n",
      "> training time is 6.1120 minutes\n"
     ]
    }
   ],
   "source": [
    "# declare learning rate, loss function, and model metric\n",
    "loss = 'categorical_crossentropy'\n",
    "lr = 0.0001\n",
    "model.compile(loss=loss, optimizer=Adam(lr=lr), metrics=['accuracy'])\n",
    "\n",
    "# train the model\n",
    "batch_size = 128\n",
    "epochs = 15\n",
    "\n",
    "starting_time = time.time()\n",
    "history = model.fit(x_training, y_training,\n",
    "                    validation_data=(x_testing, y_testing),\n",
    "                    batch_size=batch_size,\n",
    "                    epochs=epochs)\n",
    "print('> training time is %.4f minutes' % ((time.time() - starting_time)/60))"
   ]
  },
  {
   "cell_type": "markdown",
   "metadata": {},
   "source": [
    "### Training time\n",
    "- Training time with GTX 1080 is about 6.1120 minutes for 15 epochs\n",
    "- Training time with Core i7 is around 302.6 minutes (~5.04 hours) for 15 epochs"
   ]
  },
  {
   "cell_type": "markdown",
   "metadata": {},
   "source": [
    "# (4) Evaluate trained model"
   ]
  },
  {
   "cell_type": "code",
   "execution_count": 14,
   "metadata": {},
   "outputs": [
    {
     "name": "stdout",
     "output_type": "stream",
     "text": [
      "3589/3589 [==============================] - 1s 351us/step\n",
      "Test loss: 1.4070247079908234\n",
      "Test accuracy: 0.5954304820325721\n"
     ]
    }
   ],
   "source": [
    "score = model.evaluate(x_testing, y_testing)\n",
    "print('Test loss:', score[0])\n",
    "print('Test accuracy:', score[1])"
   ]
  },
  {
   "cell_type": "code",
   "execution_count": 22,
   "metadata": {},
   "outputs": [],
   "source": [
    "def get_emotion(ohv):\n",
    "    indx = np.argmax(ohv)\n",
    "        \n",
    "    if indx == 0:\n",
    "        return 'angry'\n",
    "    elif indx == 1:\n",
    "        return 'disgust'\n",
    "    elif indx == 2:\n",
    "        return 'fear'\n",
    "    elif indx == 3:\n",
    "        return 'happy'\n",
    "    elif indx == 4:\n",
    "        return 'sad'\n",
    "    elif indx == 5:\n",
    "        return 'surprise'\n",
    "    elif indx == 6:\n",
    "        return 'neutral'"
   ]
  },
  {
   "cell_type": "code",
   "execution_count": 26,
   "metadata": {},
   "outputs": [
    {
     "data": {
      "image/png": "[encoded data removed]",
      "text/plain": [
       "<matplotlib.figure.Figure at 0x2885c61e898>"
      ]
     },
     "metadata": {},
     "output_type": "display_data"
    },
    {
     "name": "stdout",
     "output_type": "stream",
     "text": [
      "> testing image index: 2783\n",
      "> true emotion: fear\n",
      "> predicted emotion: fear\n"
     ]
    }
   ],
   "source": [
    "# 2163\n",
    "img_indx = np.uint32(np.random.rand()*(testingset.shape[0] - 1))\n",
    "sample = x_testing[img_indx, :]\n",
    "sample = sample.reshape(48, 48)\n",
    "\n",
    "pred_cls = model.predict(sample.reshape(1, 48, 48, 1))\n",
    "\n",
    "plt.imshow(sample, cmap='gray')\n",
    "plt.show()\n",
    "print('> testing image index: %d\\n> true emotion: %s\\n> predicted emotion: %s' % (img_indx, get_emotion(y_testing[img_indx, :]), get_emotion(pred_cls)))"
   ]
  },
  {
   "cell_type": "code",
   "execution_count": null,
   "metadata": {},
   "outputs": [],
   "source": []
  }
 ],
 "metadata": {
  "anaconda-cloud": {},
  "kernelspec": {
   "display_name": "Python [conda root]",
   "language": "python",
   "name": "conda-root-py"
  },
  "language_info": {
   "codemirror_mode": {
    "name": "ipython",
    "version": 3
   },
   "file_extension": ".py",
   "mimetype": "text/x-python",
   "name": "python",
   "nbconvert_exporter": "python",
   "pygments_lexer": "ipython3",
   "version": "3.5.1"
  }
 },
 "nbformat": 4,
 "nbformat_minor": 2
}
